{
 "cells": [
  {
   "cell_type": "code",
   "execution_count": 1,
   "id": "9afa66cd-6c43-447e-bc5f-f1c6a2e411d1",
   "metadata": {},
   "outputs": [],
   "source": [
    "#imports\n",
    "import sys\n",
    "sys.path.append(\"utils\")\n",
    "\n",
    "import os\n",
    "import math\n",
    "from rdkit import Chem\n",
    "from alive_progress import alive_bar\n",
    "from rdkit.Chem import AllChem\n",
    "import numpy as np\n",
    "\n",
    "\n",
    "from openmm import ReaxffForce, NonbondedForce, app, unit, Platform, LangevinIntegrator, Vec3\n",
    "from openmm.app import Modeller, ForceField, PDBFile, Simulation, PDBReporter\n",
    "\n",
    "from openff.toolkit import Molecule\n",
    "from openmmforcefields.generators import GAFFTemplateGenerator\n",
    "\n",
    "\n",
    "from TopologyTools import TopologyTools, calculate_bounding_box\n",
    "from EMReporter import EnergyMinimizationReporter\n",
    "\n",
    "from ReaxFFHelpers  import remove_extra_forces"
   ]
  },
  {
   "cell_type": "code",
   "execution_count": 2,
   "id": "0d19f4b1-0937-4401-8514-b14d5c2185bb",
   "metadata": {},
   "outputs": [
    {
     "data": {
      "image/svg+xml": [
       "<svg xmlns=\"http://www.w3.org/2000/svg\" xmlns:rdkit=\"http://www.rdkit.org/xml\" xmlns:xlink=\"http://www.w3.org/1999/xlink\" version=\"1.1\" baseProfile=\"full\" xml:space=\"preserve\" width=\"500px\" height=\"300px\" viewBox=\"0 0 500 300\">\n",
       "<!-- END OF HEADER -->\n",
       "<rect style=\"opacity:1.0;fill:#FFFFFF;stroke:none\" width=\"500.0\" height=\"300.0\" x=\"0.0\" y=\"0.0\"> </rect>\n",
       "<path class=\"bond-0 atom-0 atom-1\" d=\"M 243.1,103.2 L 275.7,141.3\" style=\"fill:none;fill-rule:evenodd;stroke:#000000;stroke-width:2.0px;stroke-linecap:butt;stroke-linejoin:miter;stroke-opacity:1\"/>\n",
       "<path class=\"bond-1 atom-0 atom-8\" d=\"M 243.1,103.2 L 224.3,106.9\" style=\"fill:none;fill-rule:evenodd;stroke:#000000;stroke-width:2.0px;stroke-linecap:butt;stroke-linejoin:miter;stroke-opacity:1\"/>\n",
       "<path class=\"bond-1 atom-0 atom-8\" d=\"M 224.3,106.9 L 205.4,110.5\" style=\"fill:none;fill-rule:evenodd;stroke:#FF0000;stroke-width:2.0px;stroke-linecap:butt;stroke-linejoin:miter;stroke-opacity:1\"/>\n",
       "<path class=\"bond-2 atom-0 atom-14\" d=\"M 243.1,103.2 L 256.8,93.2\" style=\"fill:none;fill-rule:evenodd;stroke:#000000;stroke-width:2.0px;stroke-linecap:butt;stroke-linejoin:miter;stroke-opacity:1\"/>\n",
       "<path class=\"bond-2 atom-0 atom-14\" d=\"M 256.8,93.2 L 270.4,83.2\" style=\"fill:none;fill-rule:evenodd;stroke:#FF0000;stroke-width:2.0px;stroke-linecap:butt;stroke-linejoin:miter;stroke-opacity:1\"/>\n",
       "<path class=\"bond-3 atom-1 atom-2\" d=\"M 275.7,141.3 L 259.1,188.4\" style=\"fill:none;fill-rule:evenodd;stroke:#000000;stroke-width:2.0px;stroke-linecap:butt;stroke-linejoin:miter;stroke-opacity:1\"/>\n",
       "<path class=\"bond-4 atom-1 atom-13\" d=\"M 275.7,141.3 L 297.1,152.1\" style=\"fill:none;fill-rule:evenodd;stroke:#000000;stroke-width:2.0px;stroke-linecap:butt;stroke-linejoin:miter;stroke-opacity:1\"/>\n",
       "<path class=\"bond-4 atom-1 atom-13\" d=\"M 297.1,152.1 L 318.6,163.0\" style=\"fill:none;fill-rule:evenodd;stroke:#0000FF;stroke-width:2.0px;stroke-linecap:butt;stroke-linejoin:miter;stroke-opacity:1\"/>\n",
       "<path class=\"bond-5 atom-2 atom-3\" d=\"M 259.1,188.4 L 210.1,197.6\" style=\"fill:none;fill-rule:evenodd;stroke:#000000;stroke-width:2.0px;stroke-linecap:butt;stroke-linejoin:miter;stroke-opacity:1\"/>\n",
       "<path class=\"bond-6 atom-2 atom-9\" d=\"M 259.1,188.4 L 260.1,206.2\" style=\"fill:none;fill-rule:evenodd;stroke:#000000;stroke-width:2.0px;stroke-linecap:butt;stroke-linejoin:miter;stroke-opacity:1\"/>\n",
       "<path class=\"bond-6 atom-2 atom-9\" d=\"M 260.1,206.2 L 261.1,223.9\" style=\"fill:none;fill-rule:evenodd;stroke:#FF0000;stroke-width:2.0px;stroke-linecap:butt;stroke-linejoin:miter;stroke-opacity:1\"/>\n",
       "<path class=\"bond-7 atom-3 atom-4\" d=\"M 210.1,197.6 L 177.5,159.8\" style=\"fill:none;fill-rule:evenodd;stroke:#000000;stroke-width:2.0px;stroke-linecap:butt;stroke-linejoin:miter;stroke-opacity:1\"/>\n",
       "<path class=\"bond-8 atom-3 atom-10\" d=\"M 210.1,197.6 L 196.5,207.2\" style=\"fill:none;fill-rule:evenodd;stroke:#000000;stroke-width:2.0px;stroke-linecap:butt;stroke-linejoin:miter;stroke-opacity:1\"/>\n",
       "<path class=\"bond-8 atom-3 atom-10\" d=\"M 196.5,207.2 L 183.0,216.7\" style=\"fill:none;fill-rule:evenodd;stroke:#FF0000;stroke-width:2.0px;stroke-linecap:butt;stroke-linejoin:miter;stroke-opacity:1\"/>\n",
       "<path class=\"bond-9 atom-4 atom-5\" d=\"M 177.5,159.8 L 134.3,135.8\" style=\"fill:none;fill-rule:evenodd;stroke:#000000;stroke-width:2.0px;stroke-linecap:butt;stroke-linejoin:miter;stroke-opacity:1\"/>\n",
       "<path class=\"bond-10 atom-4 atom-8\" d=\"M 177.5,159.8 L 183.5,142.5\" style=\"fill:none;fill-rule:evenodd;stroke:#000000;stroke-width:2.0px;stroke-linecap:butt;stroke-linejoin:miter;stroke-opacity:1\"/>\n",
       "<path class=\"bond-10 atom-4 atom-8\" d=\"M 183.5,142.5 L 189.6,125.3\" style=\"fill:none;fill-rule:evenodd;stroke:#FF0000;stroke-width:2.0px;stroke-linecap:butt;stroke-linejoin:miter;stroke-opacity:1\"/>\n",
       "<path class=\"bond-11 atom-5 atom-11\" d=\"M 134.3,135.8 L 118.7,145.5\" style=\"fill:none;fill-rule:evenodd;stroke:#000000;stroke-width:2.0px;stroke-linecap:butt;stroke-linejoin:miter;stroke-opacity:1\"/>\n",
       "<path class=\"bond-11 atom-5 atom-11\" d=\"M 118.7,145.5 L 103.1,155.3\" style=\"fill:none;fill-rule:evenodd;stroke:#FF0000;stroke-width:2.0px;stroke-linecap:butt;stroke-linejoin:miter;stroke-opacity:1\"/>\n",
       "<path class=\"bond-12 atom-6 atom-7\" d=\"M 367.5,142.3 L 409.6,166.4\" style=\"fill:none;fill-rule:evenodd;stroke:#000000;stroke-width:2.0px;stroke-linecap:butt;stroke-linejoin:miter;stroke-opacity:1\"/>\n",
       "<path class=\"bond-13 atom-6 atom-12\" d=\"M 371.3,144.5 L 370.6,125.0\" style=\"fill:none;fill-rule:evenodd;stroke:#000000;stroke-width:2.0px;stroke-linecap:butt;stroke-linejoin:miter;stroke-opacity:1\"/>\n",
       "<path class=\"bond-13 atom-6 atom-12\" d=\"M 370.6,125.0 L 370.0,105.6\" style=\"fill:none;fill-rule:evenodd;stroke:#FF0000;stroke-width:2.0px;stroke-linecap:butt;stroke-linejoin:miter;stroke-opacity:1\"/>\n",
       "<path class=\"bond-13 atom-6 atom-12\" d=\"M 363.9,144.7 L 363.2,125.3\" style=\"fill:none;fill-rule:evenodd;stroke:#000000;stroke-width:2.0px;stroke-linecap:butt;stroke-linejoin:miter;stroke-opacity:1\"/>\n",
       "<path class=\"bond-13 atom-6 atom-12\" d=\"M 363.2,125.3 L 362.6,105.8\" style=\"fill:none;fill-rule:evenodd;stroke:#FF0000;stroke-width:2.0px;stroke-linecap:butt;stroke-linejoin:miter;stroke-opacity:1\"/>\n",
       "<path class=\"bond-14 atom-6 atom-13\" d=\"M 367.5,142.3 L 352.7,151.9\" style=\"fill:none;fill-rule:evenodd;stroke:#000000;stroke-width:2.0px;stroke-linecap:butt;stroke-linejoin:miter;stroke-opacity:1\"/>\n",
       "<path class=\"bond-14 atom-6 atom-13\" d=\"M 352.7,151.9 L 337.9,161.6\" style=\"fill:none;fill-rule:evenodd;stroke:#0000FF;stroke-width:2.0px;stroke-linecap:butt;stroke-linejoin:miter;stroke-opacity:1\"/>\n",
       "<path class=\"bond-15 atom-0 atom-15\" d=\"M 243.1,103.2 L 225.7,72.8 L 232.5,69.8 Z\" style=\"fill:#000000;fill-rule:evenodd;fill-opacity:1;stroke:#000000;stroke-width:0.5px;stroke-linecap:butt;stroke-linejoin:miter;stroke-opacity:1;\"/>\n",
       "<path class=\"bond-16 atom-1 atom-16\" d=\"M 275.7,141.3 L 295.5,113.6 L 301.0,118.6 Z\" style=\"fill:#000000;fill-rule:evenodd;fill-opacity:1;stroke:#000000;stroke-width:0.5px;stroke-linecap:butt;stroke-linejoin:miter;stroke-opacity:1;\"/>\n",
       "<path class=\"bond-17 atom-2 atom-17\" d=\"M 262.8,188.7 L 262.5,189.9\" style=\"fill:none;fill-rule:evenodd;stroke:#000000;stroke-width:1.0px;stroke-linecap:butt;stroke-linejoin:miter;stroke-opacity:1\"/>\n",
       "<path class=\"bond-17 atom-2 atom-17\" d=\"M 266.6,189.0 L 266.0,191.4\" style=\"fill:none;fill-rule:evenodd;stroke:#000000;stroke-width:1.0px;stroke-linecap:butt;stroke-linejoin:miter;stroke-opacity:1\"/>\n",
       "<path class=\"bond-17 atom-2 atom-17\" d=\"M 270.3,189.3 L 269.4,192.9\" style=\"fill:none;fill-rule:evenodd;stroke:#000000;stroke-width:1.0px;stroke-linecap:butt;stroke-linejoin:miter;stroke-opacity:1\"/>\n",
       "<path class=\"bond-17 atom-2 atom-17\" d=\"M 274.0,189.6 L 272.8,194.4\" style=\"fill:none;fill-rule:evenodd;stroke:#000000;stroke-width:1.0px;stroke-linecap:butt;stroke-linejoin:miter;stroke-opacity:1\"/>\n",
       "<path class=\"bond-17 atom-2 atom-17\" d=\"M 277.7,189.9 L 276.2,195.9\" style=\"fill:none;fill-rule:evenodd;stroke:#000000;stroke-width:1.0px;stroke-linecap:butt;stroke-linejoin:miter;stroke-opacity:1\"/>\n",
       "<path class=\"bond-17 atom-2 atom-17\" d=\"M 281.4,190.2 L 279.6,197.4\" style=\"fill:none;fill-rule:evenodd;stroke:#000000;stroke-width:1.0px;stroke-linecap:butt;stroke-linejoin:miter;stroke-opacity:1\"/>\n",
       "<path class=\"bond-18 atom-3 atom-18\" d=\"M 210.1,197.6 L 223.4,233.1 L 216.3,235.0 Z\" style=\"fill:#000000;fill-rule:evenodd;fill-opacity:1;stroke:#000000;stroke-width:0.5px;stroke-linecap:butt;stroke-linejoin:miter;stroke-opacity:1;\"/>\n",
       "<path class=\"bond-19 atom-4 atom-19\" d=\"M 175.4,162.5 L 174.9,162.0\" style=\"fill:none;fill-rule:evenodd;stroke:#000000;stroke-width:1.0px;stroke-linecap:butt;stroke-linejoin:miter;stroke-opacity:1\"/>\n",
       "<path class=\"bond-19 atom-4 atom-19\" d=\"M 173.4,165.3 L 172.3,164.3\" style=\"fill:none;fill-rule:evenodd;stroke:#000000;stroke-width:1.0px;stroke-linecap:butt;stroke-linejoin:miter;stroke-opacity:1\"/>\n",
       "<path class=\"bond-19 atom-4 atom-19\" d=\"M 171.3,168.1 L 169.7,166.5\" style=\"fill:none;fill-rule:evenodd;stroke:#000000;stroke-width:1.0px;stroke-linecap:butt;stroke-linejoin:miter;stroke-opacity:1\"/>\n",
       "<path class=\"bond-19 atom-4 atom-19\" d=\"M 169.3,170.8 L 167.1,168.8\" style=\"fill:none;fill-rule:evenodd;stroke:#000000;stroke-width:1.0px;stroke-linecap:butt;stroke-linejoin:miter;stroke-opacity:1\"/>\n",
       "<path class=\"bond-19 atom-4 atom-19\" d=\"M 167.2,173.6 L 164.5,171.1\" style=\"fill:none;fill-rule:evenodd;stroke:#000000;stroke-width:1.0px;stroke-linecap:butt;stroke-linejoin:miter;stroke-opacity:1\"/>\n",
       "<path class=\"bond-19 atom-4 atom-19\" d=\"M 165.2,176.3 L 161.9,173.3\" style=\"fill:none;fill-rule:evenodd;stroke:#000000;stroke-width:1.0px;stroke-linecap:butt;stroke-linejoin:miter;stroke-opacity:1\"/>\n",
       "<path class=\"bond-19 atom-4 atom-19\" d=\"M 163.1,179.1 L 159.3,175.6\" style=\"fill:none;fill-rule:evenodd;stroke:#000000;stroke-width:1.0px;stroke-linecap:butt;stroke-linejoin:miter;stroke-opacity:1\"/>\n",
       "<path class=\"bond-19 atom-4 atom-19\" d=\"M 161.1,181.9 L 156.7,177.9\" style=\"fill:none;fill-rule:evenodd;stroke:#000000;stroke-width:1.0px;stroke-linecap:butt;stroke-linejoin:miter;stroke-opacity:1\"/>\n",
       "<path class=\"bond-19 atom-4 atom-19\" d=\"M 159.1,184.6 L 154.2,180.1\" style=\"fill:none;fill-rule:evenodd;stroke:#000000;stroke-width:1.0px;stroke-linecap:butt;stroke-linejoin:miter;stroke-opacity:1\"/>\n",
       "<path class=\"bond-19 atom-4 atom-19\" d=\"M 157.0,187.4 L 151.6,182.4\" style=\"fill:none;fill-rule:evenodd;stroke:#000000;stroke-width:1.0px;stroke-linecap:butt;stroke-linejoin:miter;stroke-opacity:1\"/>\n",
       "<path class=\"bond-20 atom-5 atom-20\" d=\"M 134.3,135.8 L 151.4,104.5\" style=\"fill:none;fill-rule:evenodd;stroke:#000000;stroke-width:2.0px;stroke-linecap:butt;stroke-linejoin:miter;stroke-opacity:1\"/>\n",
       "<path class=\"bond-21 atom-5 atom-21\" d=\"M 134.3,135.8 L 115.7,105.9\" style=\"fill:none;fill-rule:evenodd;stroke:#000000;stroke-width:2.0px;stroke-linecap:butt;stroke-linejoin:miter;stroke-opacity:1\"/>\n",
       "<path class=\"bond-22 atom-7 atom-22\" d=\"M 409.6,166.4 L 391.3,197.5\" style=\"fill:none;fill-rule:evenodd;stroke:#000000;stroke-width:2.0px;stroke-linecap:butt;stroke-linejoin:miter;stroke-opacity:1\"/>\n",
       "<path class=\"bond-23 atom-7 atom-23\" d=\"M 409.6,166.4 L 427.1,197.7\" style=\"fill:none;fill-rule:evenodd;stroke:#000000;stroke-width:2.0px;stroke-linecap:butt;stroke-linejoin:miter;stroke-opacity:1\"/>\n",
       "<path class=\"bond-24 atom-7 atom-24\" d=\"M 409.6,166.4 L 442.5,147.6\" style=\"fill:none;fill-rule:evenodd;stroke:#000000;stroke-width:2.0px;stroke-linecap:butt;stroke-linejoin:miter;stroke-opacity:1\"/>\n",
       "<path class=\"bond-25 atom-9 atom-25\" d=\"M 273.2,241.6 L 285.2,247.1\" style=\"fill:none;fill-rule:evenodd;stroke:#FF0000;stroke-width:2.0px;stroke-linecap:butt;stroke-linejoin:miter;stroke-opacity:1\"/>\n",
       "<path class=\"bond-25 atom-9 atom-25\" d=\"M 285.2,247.1 L 297.1,252.7\" style=\"fill:none;fill-rule:evenodd;stroke:#000000;stroke-width:2.0px;stroke-linecap:butt;stroke-linejoin:miter;stroke-opacity:1\"/>\n",
       "<path class=\"bond-26 atom-10 atom-26\" d=\"M 173.3,237.4 L 175.0,249.8\" style=\"fill:none;fill-rule:evenodd;stroke:#FF0000;stroke-width:2.0px;stroke-linecap:butt;stroke-linejoin:miter;stroke-opacity:1\"/>\n",
       "<path class=\"bond-26 atom-10 atom-26\" d=\"M 175.0,249.8 L 176.6,262.2\" style=\"fill:none;fill-rule:evenodd;stroke:#000000;stroke-width:2.0px;stroke-linecap:butt;stroke-linejoin:miter;stroke-opacity:1\"/>\n",
       "<path class=\"bond-27 atom-11 atom-27\" d=\"M 80.4,156.5 L 69.0,150.5\" style=\"fill:none;fill-rule:evenodd;stroke:#FF0000;stroke-width:2.0px;stroke-linecap:butt;stroke-linejoin:miter;stroke-opacity:1\"/>\n",
       "<path class=\"bond-27 atom-11 atom-27\" d=\"M 69.0,150.5 L 57.5,144.6\" style=\"fill:none;fill-rule:evenodd;stroke:#000000;stroke-width:2.0px;stroke-linecap:butt;stroke-linejoin:miter;stroke-opacity:1\"/>\n",
       "<path class=\"bond-28 atom-13 atom-28\" d=\"M 330.0,180.1 L 331.9,193.5\" style=\"fill:none;fill-rule:evenodd;stroke:#0000FF;stroke-width:2.0px;stroke-linecap:butt;stroke-linejoin:miter;stroke-opacity:1\"/>\n",
       "<path class=\"bond-28 atom-13 atom-28\" d=\"M 331.9,193.5 L 333.7,206.8\" style=\"fill:none;fill-rule:evenodd;stroke:#000000;stroke-width:2.0px;stroke-linecap:butt;stroke-linejoin:miter;stroke-opacity:1\"/>\n",
       "<path class=\"bond-29 atom-14 atom-29\" d=\"M 280.0,62.6 L 278.3,50.2\" style=\"fill:none;fill-rule:evenodd;stroke:#FF0000;stroke-width:2.0px;stroke-linecap:butt;stroke-linejoin:miter;stroke-opacity:1\"/>\n",
       "<path class=\"bond-29 atom-14 atom-29\" d=\"M 278.3,50.2 L 276.5,37.8\" style=\"fill:none;fill-rule:evenodd;stroke:#000000;stroke-width:2.0px;stroke-linecap:butt;stroke-linejoin:miter;stroke-opacity:1\"/>\n",
       "<path d=\"M 369.6,143.5 L 367.5,142.3 L 366.7,142.8\" style=\"fill:none;stroke:#000000;stroke-width:2.0px;stroke-linecap:butt;stroke-linejoin:miter;stroke-opacity:1;\"/>\n",
       "<path class=\"atom-8\" d=\"M 184.3 112.7 Q 184.3 107.6, 186.9 104.8 Q 189.4 101.9, 194.1 101.9 Q 198.8 101.9, 201.3 104.8 Q 203.8 107.6, 203.8 112.7 Q 203.8 117.8, 201.2 120.8 Q 198.7 123.7, 194.1 123.7 Q 189.4 123.7, 186.9 120.8 Q 184.3 117.9, 184.3 112.7 M 194.1 121.3 Q 197.3 121.3, 199.0 119.1 Q 200.8 116.9, 200.8 112.7 Q 200.8 108.5, 199.0 106.4 Q 197.3 104.3, 194.1 104.3 Q 190.8 104.3, 189.1 106.4 Q 187.3 108.5, 187.3 112.7 Q 187.3 117.0, 189.1 119.1 Q 190.8 121.3, 194.1 121.3 \" fill=\"#FF0000\"/>\n",
       "<path class=\"atom-9\" d=\"M 252.1 236.3 Q 252.1 231.2, 254.6 228.4 Q 257.2 225.5, 261.9 225.5 Q 266.6 225.5, 269.1 228.4 Q 271.6 231.2, 271.6 236.3 Q 271.6 241.4, 269.0 244.4 Q 266.5 247.3, 261.9 247.3 Q 257.2 247.3, 254.6 244.4 Q 252.1 241.5, 252.1 236.3 M 261.9 244.9 Q 265.1 244.9, 266.8 242.7 Q 268.6 240.6, 268.6 236.3 Q 268.6 232.1, 266.8 230.1 Q 265.1 227.9, 261.9 227.9 Q 258.6 227.9, 256.9 230.0 Q 255.1 232.1, 255.1 236.3 Q 255.1 240.6, 256.9 242.7 Q 258.6 244.9, 261.9 244.9 \" fill=\"#FF0000\"/>\n",
       "<path class=\"atom-10\" d=\"M 162.0 224.8 Q 162.0 219.7, 164.5 216.9 Q 167.0 214.0, 171.7 214.0 Q 176.4 214.0, 178.9 216.9 Q 181.4 219.7, 181.4 224.8 Q 181.4 230.0, 178.9 232.9 Q 176.3 235.8, 171.7 235.8 Q 167.0 235.8, 164.5 232.9 Q 162.0 230.0, 162.0 224.8 M 171.7 233.4 Q 174.9 233.4, 176.6 231.2 Q 178.4 229.1, 178.4 224.8 Q 178.4 220.7, 176.6 218.6 Q 174.9 216.4, 171.7 216.4 Q 168.4 216.4, 166.7 218.5 Q 164.9 220.6, 164.9 224.8 Q 164.9 229.1, 166.7 231.2 Q 168.4 233.4, 171.7 233.4 \" fill=\"#FF0000\"/>\n",
       "<path class=\"atom-11\" d=\"M 82.0 162.5 Q 82.0 157.4, 84.6 154.5 Q 87.1 151.7, 91.8 151.7 Q 96.5 151.7, 99.0 154.5 Q 101.5 157.4, 101.5 162.5 Q 101.5 167.6, 98.9 170.6 Q 96.4 173.5, 91.8 173.5 Q 87.1 173.5, 84.6 170.6 Q 82.0 167.7, 82.0 162.5 M 91.8 171.1 Q 95.0 171.1, 96.7 168.9 Q 98.5 166.7, 98.5 162.5 Q 98.5 158.3, 96.7 156.2 Q 95.0 154.1, 91.8 154.1 Q 88.5 154.1, 86.8 156.2 Q 85.0 158.3, 85.0 162.5 Q 85.0 166.8, 86.8 168.9 Q 88.5 171.1, 91.8 171.1 \" fill=\"#FF0000\"/>\n",
       "<path class=\"atom-12\" d=\"M 356.1 93.1 Q 356.1 88.0, 358.7 85.2 Q 361.2 82.3, 365.9 82.3 Q 370.6 82.3, 373.1 85.2 Q 375.6 88.0, 375.6 93.1 Q 375.6 98.3, 373.0 101.2 Q 370.5 104.1, 365.9 104.1 Q 361.2 104.1, 358.7 101.2 Q 356.1 98.3, 356.1 93.1 M 365.9 101.7 Q 369.1 101.7, 370.8 99.5 Q 372.6 97.4, 372.6 93.1 Q 372.6 88.9, 370.8 86.9 Q 369.1 84.7, 365.9 84.7 Q 362.6 84.7, 360.9 86.8 Q 359.1 88.9, 359.1 93.1 Q 359.1 97.4, 360.9 99.5 Q 362.6 101.7, 365.9 101.7 \" fill=\"#FF0000\"/>\n",
       "<path class=\"atom-13\" d=\"M 323.6 157.3 L 330.5 168.5 Q 331.2 169.6, 332.3 171.6 Q 333.4 173.6, 333.5 173.7 L 333.5 157.3 L 336.3 157.3 L 336.3 178.5 L 333.4 178.5 L 326.0 166.2 Q 325.1 164.8, 324.2 163.1 Q 323.3 161.5, 323.0 161.0 L 323.0 178.5 L 320.2 178.5 L 320.2 157.3 L 323.6 157.3 \" fill=\"#0000FF\"/>\n",
       "<path class=\"atom-14\" d=\"M 272.0 75.0 Q 272.0 69.9, 274.5 67.0 Q 277.0 64.2, 281.7 64.2 Q 286.4 64.2, 288.9 67.0 Q 291.5 69.9, 291.5 75.0 Q 291.5 80.1, 288.9 83.1 Q 286.4 86.0, 281.7 86.0 Q 277.1 86.0, 274.5 83.1 Q 272.0 80.2, 272.0 75.0 M 281.7 83.6 Q 285.0 83.6, 286.7 81.4 Q 288.5 79.2, 288.5 75.0 Q 288.5 70.8, 286.7 68.7 Q 285.0 66.6, 281.7 66.6 Q 278.5 66.6, 276.7 68.7 Q 275.0 70.8, 275.0 75.0 Q 275.0 79.3, 276.7 81.4 Q 278.5 83.6, 281.7 83.6 \" fill=\"#FF0000\"/>\n",
       "<path class=\"atom-15\" d=\"M 214.7 46.9 L 217.5 46.9 L 217.5 55.9 L 228.4 55.9 L 228.4 46.9 L 231.3 46.9 L 231.3 68.1 L 228.4 68.1 L 228.4 58.3 L 217.5 58.3 L 217.5 68.1 L 214.7 68.1 L 214.7 46.9 \" fill=\"#000000\"/>\n",
       "<path class=\"atom-16\" d=\"M 301.5 92.6 L 304.4 92.6 L 304.4 101.6 L 315.2 101.6 L 315.2 92.6 L 318.1 92.6 L 318.1 113.8 L 315.2 113.8 L 315.2 104.0 L 304.4 104.0 L 304.4 113.8 L 301.5 113.8 L 301.5 92.6 \" fill=\"#000000\"/>\n",
       "<path class=\"atom-17\" d=\"M 283.8 186.1 L 286.7 186.1 L 286.7 195.1 L 297.5 195.1 L 297.5 186.1 L 300.4 186.1 L 300.4 207.3 L 297.5 207.3 L 297.5 197.5 L 286.7 197.5 L 286.7 207.3 L 283.8 207.3 L 283.8 186.1 \" fill=\"#000000\"/>\n",
       "<path class=\"atom-18\" d=\"M 215.3 237.3 L 218.1 237.3 L 218.1 246.3 L 229.0 246.3 L 229.0 237.3 L 231.8 237.3 L 231.8 258.5 L 229.0 258.5 L 229.0 248.7 L 218.1 248.7 L 218.1 258.5 L 215.3 258.5 L 215.3 237.3 \" fill=\"#000000\"/>\n",
       "<path class=\"atom-19\" d=\"M 134.4 186.8 L 137.3 186.8 L 137.3 195.8 L 148.1 195.8 L 148.1 186.8 L 151.0 186.8 L 151.0 208.0 L 148.1 208.0 L 148.1 198.2 L 137.3 198.2 L 137.3 208.0 L 134.4 208.0 L 134.4 186.8 \" fill=\"#000000\"/>\n",
       "<path class=\"atom-20\" d=\"M 149.8 81.7 L 152.7 81.7 L 152.7 90.7 L 163.5 90.7 L 163.5 81.7 L 166.4 81.7 L 166.4 102.8 L 163.5 102.8 L 163.5 93.1 L 152.7 93.1 L 152.7 102.8 L 149.8 102.8 L 149.8 81.7 \" fill=\"#000000\"/>\n",
       "<path class=\"atom-21\" d=\"M 99.8 83.0 L 102.7 83.0 L 102.7 92.0 L 113.5 92.0 L 113.5 83.0 L 116.4 83.0 L 116.4 104.2 L 113.5 104.2 L 113.5 94.4 L 102.7 94.4 L 102.7 104.2 L 99.8 104.2 L 99.8 83.0 \" fill=\"#000000\"/>\n",
       "<path class=\"atom-22\" d=\"M 375.8 199.1 L 378.6 199.1 L 378.6 208.1 L 389.5 208.1 L 389.5 199.1 L 392.3 199.1 L 392.3 220.3 L 389.5 220.3 L 389.5 210.5 L 378.6 210.5 L 378.6 220.3 L 375.8 220.3 L 375.8 199.1 \" fill=\"#000000\"/>\n",
       "<path class=\"atom-23\" d=\"M 425.6 199.3 L 428.5 199.3 L 428.5 208.3 L 439.3 208.3 L 439.3 199.3 L 442.2 199.3 L 442.2 220.5 L 439.3 220.5 L 439.3 210.7 L 428.5 210.7 L 428.5 220.5 L 425.6 220.5 L 425.6 199.3 \" fill=\"#000000\"/>\n",
       "<path class=\"atom-24\" d=\"M 444.1 131.3 L 447.0 131.3 L 447.0 140.3 L 457.8 140.3 L 457.8 131.3 L 460.7 131.3 L 460.7 152.5 L 457.8 152.5 L 457.8 142.7 L 447.0 142.7 L 447.0 152.5 L 444.1 152.5 L 444.1 131.3 \" fill=\"#000000\"/>\n",
       "<path class=\"atom-25\" d=\"M 298.7 246.8 L 301.6 246.8 L 301.6 255.8 L 312.4 255.8 L 312.4 246.8 L 315.3 246.8 L 315.3 268.0 L 312.4 268.0 L 312.4 258.2 L 301.6 258.2 L 301.6 268.0 L 298.7 268.0 L 298.7 246.8 \" fill=\"#000000\"/>\n",
       "<path class=\"atom-26\" d=\"M 169.9 263.8 L 172.8 263.8 L 172.8 272.8 L 183.6 272.8 L 183.6 263.8 L 186.5 263.8 L 186.5 285.0 L 183.6 285.0 L 183.6 275.2 L 172.8 275.2 L 172.8 285.0 L 169.9 285.0 L 169.9 263.8 \" fill=\"#000000\"/>\n",
       "<path class=\"atom-27\" d=\"M 39.3 128.8 L 42.2 128.8 L 42.2 137.8 L 53.0 137.8 L 53.0 128.8 L 55.9 128.8 L 55.9 150.0 L 53.0 150.0 L 53.0 140.2 L 42.2 140.2 L 42.2 150.0 L 39.3 150.0 L 39.3 128.8 \" fill=\"#000000\"/>\n",
       "<path class=\"atom-28\" d=\"M 327.1 208.4 L 330.0 208.4 L 330.0 217.4 L 340.8 217.4 L 340.8 208.4 L 343.7 208.4 L 343.7 229.6 L 340.8 229.6 L 340.8 219.8 L 330.0 219.8 L 330.0 229.6 L 327.1 229.6 L 327.1 208.4 \" fill=\"#000000\"/>\n",
       "<path class=\"atom-29\" d=\"M 266.5 15.0 L 269.4 15.0 L 269.4 24.0 L 280.2 24.0 L 280.2 15.0 L 283.1 15.0 L 283.1 36.2 L 280.2 36.2 L 280.2 26.4 L 269.4 26.4 L 269.4 36.2 L 266.5 36.2 L 266.5 15.0 \" fill=\"#000000\"/>\n",
       "</svg>"
      ],
      "text/plain": [
       "<IPython.core.display.SVG object>"
      ]
     },
     "execution_count": 2,
     "metadata": {},
     "output_type": "execute_result"
    }
   ],
   "source": [
    "rdmol_base = Chem.MolFromMol2File(\"NDG.mol2\")\n",
    "molecule = Molecule.from_rdkit(rdmol_base)\n",
    "molecule.generate_unique_atom_names()\n",
    "molecule.visualize()"
   ]
  },
  {
   "cell_type": "code",
   "execution_count": 3,
   "id": "ee5af8cb-84d5-4a4b-9c7f-a01b4bac029f",
   "metadata": {},
   "outputs": [
    {
     "data": {
      "text/plain": [
       "Quantity(value=array([ 0.3115758 , -0.0989096 ,  0.96876491]), unit=nanometer)"
      ]
     },
     "execution_count": 3,
     "metadata": {},
     "output_type": "execute_result"
    }
   ],
   "source": [
    "topology = molecule.to_topology().to_openmm()\n",
    "TopologyTools.add_chain_name(\"REAX\", topology)\n",
    "molecule.to_topology().get_positions().to_openmm().mean(axis=0)"
   ]
  },
  {
   "cell_type": "code",
   "execution_count": 4,
   "id": "811e6370-eaea-46ef-a2fd-6b2dfe77a1cb",
   "metadata": {},
   "outputs": [
    {
     "name": "stdout",
     "output_type": "stream",
     "text": [
      "Warning, renaming chain, old chain id was  A .\n"
     ]
    },
    {
     "data": {
      "text/plain": [
       "Quantity(value=Vec3(x=-0.005122018802572533, y=-0.005225927758535016, z=-0.012155863433943596), unit=nanometer)"
      ]
     },
     "execution_count": 4,
     "metadata": {},
     "output_type": "execute_result"
    }
   ],
   "source": [
    "protein = PDBFile(\"7xf7-centered-protein.pdb\")\n",
    "protein_topology = protein.topology\n",
    "TopologyTools.add_chain_name(\"PROTEIN\", protein_topology)\n",
    "protein.positions.mean()"
   ]
  },
  {
   "cell_type": "code",
   "execution_count": 5,
   "id": "6301cbdf-6dc6-4776-ad74-24c01860181f",
   "metadata": {},
   "outputs": [
    {
     "name": "stdout",
     "output_type": "stream",
     "text": [
      "Bounding Box:\n",
      "Min: Vec3(x=-1.9010000000000002, y=-1.7717, z=-1.8795000000000002)\n",
      "Max: Vec3(x=1.7163000000000002, y=1.7773, z=2.3031)\n"
     ]
    }
   ],
   "source": [
    "min_coords, max_coords = calculate_bounding_box(protein)\n",
    "print(\"Bounding Box:\")\n",
    "print(f\"Min: {min_coords}\")\n",
    "print(f\"Max: {max_coords}\")\n",
    "sizes = max_coords-min_coords"
   ]
  },
  {
   "cell_type": "code",
   "execution_count": 6,
   "id": "f6a6f1a8-94b2-4e6d-bf0b-e72ad5daf36c",
   "metadata": {},
   "outputs": [],
   "source": [
    "modeller = Modeller(topology, molecule.to_topology().get_positions().to_openmm())"
   ]
  },
  {
   "cell_type": "code",
   "execution_count": 7,
   "id": "f7a3d378-5ce5-4841-a832-9059210762bb",
   "metadata": {},
   "outputs": [],
   "source": [
    "modeller.add(protein_topology, protein.positions)"
   ]
  },
  {
   "cell_type": "code",
   "execution_count": 8,
   "id": "8939ef18-f2a1-4db2-937d-013352e1b073",
   "metadata": {},
   "outputs": [],
   "source": [
    "#for the small molecule\n",
    "gaff = GAFFTemplateGenerator(forcefield=\"gaff-2.11\")\n",
    "forcefield = ForceField(\"amber14/protein.ff14SB.xml\", \"amber14/tip3p.xml\")\n",
    "forcefield.registerTemplateGenerator(gaff.generator)\n",
    "gaff.add_molecules([molecule])"
   ]
  },
  {
   "cell_type": "code",
   "execution_count": 9,
   "id": "8431e588-dadf-4537-924c-bfac5c5d7047",
   "metadata": {},
   "outputs": [],
   "source": [
    "modeller.addSolvent(forcefield, model=\"tip3p\", boxSize=5*Vec3(1, 1, 1 )*unit.nanometers)"
   ]
  },
  {
   "cell_type": "code",
   "execution_count": 10,
   "id": "e5039ebf-466c-4a1d-ba15-7353f8874968",
   "metadata": {},
   "outputs": [],
   "source": [
    "output_pdb_file = 'output_with_solvent.pdb'\n",
    "PDBFile.writeFile(modeller.topology, modeller.positions, open(output_pdb_file, 'w'))"
   ]
  },
  {
   "cell_type": "code",
   "execution_count": 11,
   "id": "c55b7e56-97c6-4900-b752-1bfb74d3b1d0",
   "metadata": {},
   "outputs": [],
   "source": [
    "system = forcefield.createSystem(modeller.topology, \n",
    "                                 nonbondedCutoff=1.0*unit.nanometers,\n",
    "                                 switchDistance=0.9*unit.nanometers,\n",
    "                                 hydrogenMass=4*unit.amu,\n",
    "                                 rigidWater=True,\n",
    "                                 constraints=app.AllBonds,\n",
    "                                 nonbondedMethod=app.CutoffNonPeriodic,\n",
    "                                 removeCMMotion=True\n",
    "                                )"
   ]
  },
  {
   "cell_type": "code",
   "execution_count": 12,
   "id": "d9e15c19-acfa-42a1-a511-1c87f6652cbf",
   "metadata": {
    "scrolled": true
   },
   "outputs": [],
   "source": [
    "reax_atoms = [atom.index for atom in modeller.topology.atoms() if atom.residue.chain.id == \"REAX\"]\n",
    "atom_symbols = [atom.element.symbol for atom in modeller.topology.atoms()]\n",
    "non_reax_atoms = [atom.index for atom in modeller.topology.atoms() if atom.index not in reax_atoms]"
   ]
  },
  {
   "cell_type": "code",
   "execution_count": 13,
   "id": "1e6d789b-0b14-41f2-976c-881d33c30360",
   "metadata": {},
   "outputs": [
    {
     "data": {
      "text/plain": [
       "Quantity(value=Vec3(x=3.9948779811974275, y=3.994774072241465, z=3.987844136566056), unit=nanometer)"
      ]
     },
     "execution_count": 13,
     "metadata": {},
     "output_type": "execute_result"
    }
   ],
   "source": [
    "cog = (protein.positions.mean()+ 4*np.array([1,1,1])*unit.nanometer)\n",
    "cog"
   ]
  },
  {
   "cell_type": "code",
   "execution_count": 14,
   "id": "f2c95b6a-5189-42fa-a265-4aa14ee21e51",
   "metadata": {},
   "outputs": [
    {
     "data": {
      "text/plain": [
       "Quantity(value=array([11.81431106, 11.81431106, 11.81431106]), unit=nanometer)"
      ]
     },
     "execution_count": 14,
     "metadata": {},
     "output_type": "execute_result"
    }
   ],
   "source": [
    "cog_molecule = np.array([0.,0.,0.])*unit.nanometer\n",
    "for molpos in molecule.to_topology().get_positions().to_openmm():\n",
    "    cog_molecule+=molpos.mean(axis=0)\n",
    "cog_molecule"
   ]
  },
  {
   "cell_type": "code",
   "execution_count": 15,
   "id": "e9539c3c-cfc1-42f3-9555-419fc7286397",
   "metadata": {},
   "outputs": [],
   "source": [
    "dist = np.linalg.norm((cog-cog_molecule).value_in_unit(unit.nanometer))"
   ]
  },
  {
   "cell_type": "code",
   "execution_count": 16,
   "id": "b1edaeca-2816-4fc1-a939-bdb1dd718039",
   "metadata": {},
   "outputs": [],
   "source": [
    "from openmm import CustomExternalForce, CustomCentroidBondForce\n",
    "protein_atoms = [atom.index for atom in modeller.topology.atoms() if atom.residue.chain.id == \"PROTEIN\"]"
   ]
  },
  {
   "cell_type": "code",
   "execution_count": 17,
   "id": "7f065672-72c6-4068-ba3d-41728dc75df6",
   "metadata": {},
   "outputs": [
    {
     "data": {
      "text/plain": [
       "6"
      ]
     },
     "execution_count": 17,
     "metadata": {},
     "output_type": "execute_result"
    }
   ],
   "source": [
    "force = CustomExternalForce('100*max(0, r-cogr)^2; r=sqrt((x-cogx)*(x-cogx)+(y-cogy)*(y-cogy)+(z-cogz)*(z-cogz))')\n",
    "force.addGlobalParameter('cogr', 5.2*unit.nanometer)\n",
    "force.addGlobalParameter(\"cogx\", cog[0])\n",
    "force.addGlobalParameter(\"cogy\", cog[1])\n",
    "force.addGlobalParameter(\"cogz\", cog[2])\n",
    "\n",
    "for i in protein_atoms:\n",
    "    force.addParticle(i, [])\n",
    "    \n",
    "for i in reax_atoms:\n",
    "    force.addParticle(i, [])\n",
    "system.addForce(force)\n",
    "#flat bottomned well between ligand cog and protein cog\n",
    "force = CustomCentroidBondForce(2, '0.5*kres*step(distance(g1, g2) - r0)*(distance(g1, g2) - r0)^2')\n",
    "force.addGlobalParameter('r0', dist)\n",
    "force.addGlobalParameter('kres', 100*unit.kilojoule_per_mole/unit.nanometers**2)\n",
    "force.addGroup(reax_atoms, [1.0 for el in reax_atoms])\n",
    "force.addGroup(protein_atoms, [1.0 for el in protein_atoms])\n",
    "force.addBond([0, 1])\n",
    "system.addForce(force)"
   ]
  },
  {
   "cell_type": "markdown",
   "id": "c8fddde8-81a8-4ee4-9bcc-e7ad735aa8a8",
   "metadata": {},
   "source": [
    "# ReaxFF-Specific Setup Steps\n",
    "    - set charges to 0 for reaxff atoms, but not with exceptions, because it is hard on the shared memory\n",
    "    - remove the classic MD forces from the reaxff atoms. \n",
    "    - remove constraints from reaxff atoms (optional, but usually necesssary)"
   ]
  },
  {
   "cell_type": "code",
   "execution_count": 18,
   "id": "b2798276-3d4a-4dfb-a6ae-828c593d73b3",
   "metadata": {},
   "outputs": [],
   "source": [
    "force = ReaxffForce(\"../tests/ffield.reaxff\", \"../tests/control\")"
   ]
  },
  {
   "cell_type": "code",
   "execution_count": 19,
   "id": "5dca1664-b261-4554-a055-2a054b97da63",
   "metadata": {},
   "outputs": [],
   "source": [
    "# set charges to 0 and copy MM charges for reaxff \n",
    "nonbonded_force = next(\n",
    "    force for force in system.getForces() if isinstance(force, NonbondedForce)\n",
    ")\n",
    "for i in range(nonbonded_force.getNumParticles()):\n",
    "    charge, sigma, epsilon = nonbonded_force.getParticleParameters(i)\n",
    "    if i in reax_atoms:\n",
    "        nonbonded_force.setParticleParameters(i, 0.0, sigma, epsilon)\n",
    "        force.addAtom(i, atom_symbols[i], 0.0, True)\n",
    "    else:\n",
    "        force.addAtom(i, atom_symbols[i], charge, False)"
   ]
  },
  {
   "cell_type": "code",
   "execution_count": 20,
   "id": "b71860d5-41e7-42b4-b302-314c3086223c",
   "metadata": {},
   "outputs": [
    {
     "name": "stdout",
     "output_type": "stream",
     "text": [
      "Number of bond forces before update:  0\n",
      "Number of bond forces after update:  0\n",
      "Number of angle forces before update:  3708\n",
      "Number of angle forces after update:  3655\n",
      "Number of torsion forces before update:  6888\n",
      "Number of torsion forces after update:  6799\n"
     ]
    }
   ],
   "source": [
    "remove_extra_forces(system, reax_atoms)"
   ]
  },
  {
   "cell_type": "code",
   "execution_count": 21,
   "id": "381a9087-6e1b-4234-813a-cb74e4a7cd0d",
   "metadata": {},
   "outputs": [
    {
     "name": "stdout",
     "output_type": "stream",
     "text": [
      "Removed  30  constraints.\n"
     ]
    }
   ],
   "source": [
    "ncs = system.getNumConstraints()\n",
    "for i in range(system.getNumConstraints() - 1, -1, -1):\n",
    "    particle1, particle2, dist = system.getConstraintParameters(i)\n",
    "    if (particle1 in reax_atoms) or (particle2 in reax_atoms):\n",
    "        #pass\n",
    "        system.removeConstraint(i)\n",
    "print(\"Removed \", ncs-system.getNumConstraints(), \" constraints.\")"
   ]
  },
  {
   "cell_type": "code",
   "execution_count": 22,
   "id": "44adaa77-d433-452a-9a02-a95db489983d",
   "metadata": {},
   "outputs": [
    {
     "name": "stdout",
     "output_type": "stream",
     "text": [
      "Number of MM atoms:  11365\n",
      "Number of ReaxFF atoms:  30\n"
     ]
    }
   ],
   "source": [
    "print(\"Number of MM atoms: \", len(non_reax_atoms))\n",
    "print(\"Number of ReaxFF atoms: \", len(reax_atoms))"
   ]
  },
  {
   "cell_type": "code",
   "execution_count": 23,
   "id": "2d720146-988c-479c-8bf6-517b5903f439",
   "metadata": {},
   "outputs": [],
   "source": [
    "system.addForce(force);"
   ]
  },
  {
   "cell_type": "code",
   "execution_count": 24,
   "id": "df0879a6-0e23-4e12-9fa3-2581819a3b7d",
   "metadata": {},
   "outputs": [],
   "source": [
    "platform = Platform.getPlatform('CUDA')"
   ]
  },
  {
   "cell_type": "code",
   "execution_count": 27,
   "id": "76ec6173-073a-4a71-a0d7-0e7620958363",
   "metadata": {},
   "outputs": [],
   "source": [
    "compound_integrator = LangevinIntegrator(300*unit.kelvin, 10/unit.picoseconds, 0.25*unit.femtoseconds)\n",
    "simulation = Simulation(modeller.topology, system, compound_integrator, platform)\n",
    "simulation.context.setPositions(modeller.positions)\n",
    "simulation.reporters.append(PDBReporter(f'NVT_REAX.pdb', 100))"
   ]
  },
  {
   "cell_type": "code",
   "execution_count": 28,
   "id": "7d3b8225-8aac-4630-b5f6-818f41426ce7",
   "metadata": {},
   "outputs": [
    {
     "name": "stdout",
     "output_type": "stream",
     "text": [
      "0 740328.244484841\n",
      "0 751413.5934412706\n",
      "0 752114.0965202741\n",
      "0 748494.794819831\n",
      "0 748062.1670750482\n"
     ]
    }
   ],
   "source": [
    "# if the output values are too high you there is probably some clash in the geometry\n",
    "# the proper way of resolving this is to have a previous classical equilibriation run, as\n",
    "# reaxff shouldnt really be used for a full minimization, becuse of the reacivity\n",
    "simulation.minimizeEnergy(reporter=EnergyMinimizationReporter(\"min.dat\"), maxIterations=10, tolerance=1E2)"
   ]
  },
  {
   "cell_type": "code",
   "execution_count": 29,
   "id": "d503b319-05cd-4584-88c2-ccbe3c811358",
   "metadata": {},
   "outputs": [
    {
     "name": "stdout",
     "output_type": "stream",
     "text": [
      "NVT Heatup\n",
      "\n",
      "Done.\n",
      "██████████████████████████████████| 100/100 [100%] in 1:08.4 (1.46/s)    "
     ]
    }
   ],
   "source": [
    "temperature_start = 0\n",
    "temperature_end = 300\n",
    "temperature = temperature_start\n",
    "\n",
    "mdsteps = 1e3\n",
    "print(\"NVT Heatup\")\n",
    "\n",
    "with alive_bar(100, force_tty=True) as bar:\n",
    "    for i in range(100):\n",
    "        #heat up whole system to 300K\n",
    "        compound_integrator.setTemperature(temperature*unit.kelvin)\n",
    "        simulation.step(mdsteps/100)\n",
    "        temperature += (temperature_end-temperature_start)/100\n",
    "        bar() \n",
    "print(\"Done.\")"
   ]
  },
  {
   "cell_type": "code",
   "execution_count": null,
   "id": "2febc338-f7fb-4913-9eb8-015e34aaae12",
   "metadata": {},
   "outputs": [],
   "source": []
  }
 ],
 "metadata": {
  "kernelspec": {
   "display_name": "Python 3 (ipykernel)",
   "language": "python",
   "name": "python3"
  },
  "language_info": {
   "codemirror_mode": {
    "name": "ipython",
    "version": 3
   },
   "file_extension": ".py",
   "mimetype": "text/x-python",
   "name": "python",
   "nbconvert_exporter": "python",
   "pygments_lexer": "ipython3",
   "version": "3.11.11"
  }
 },
 "nbformat": 4,
 "nbformat_minor": 5
}
